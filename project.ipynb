{
  "cells": [
    {
      "cell_type": "markdown",
      "metadata": {
        "id": "view-in-github",
        "colab_type": "text"
      },
      "source": [
        "<a href=\"https://colab.research.google.com/github/arbhavana/Sentimental-analysis-of-code-mixed-Telugu-English-text/blob/main/project.ipynb\" target=\"_parent\"><img src=\"https://colab.research.google.com/assets/colab-badge.svg\" alt=\"Open In Colab\"/></a>"
      ]
    },
    {
      "cell_type": "code",
      "execution_count": null,
      "metadata": {
        "colab": {
          "base_uri": "https://localhost:8080/"
        },
        "id": "qaiIW1o2_k6p",
        "outputId": "8dab6507-36a4-4ac7-94eb-ad3a1a9c47dc"
      },
      "outputs": [
        {
          "name": "stdout",
          "output_type": "stream",
          "text": [
            "Collecting symspellpy\n",
            "  Downloading symspellpy-6.7.8-py3-none-any.whl.metadata (3.9 kB)\n",
            "Collecting editdistpy>=0.1.3 (from symspellpy)\n",
            "  Downloading editdistpy-0.1.5-cp310-cp310-manylinux_2_5_x86_64.manylinux1_x86_64.manylinux_2_17_x86_64.manylinux2014_x86_64.whl.metadata (7.9 kB)\n",
            "Downloading symspellpy-6.7.8-py3-none-any.whl (2.6 MB)\n",
            "\u001b[2K   \u001b[90m━━━━━━━━━━━━━━━━━━━━━━━━━━━━━━━━━━━━━━━━\u001b[0m \u001b[32m2.6/2.6 MB\u001b[0m \u001b[31m16.2 MB/s\u001b[0m eta \u001b[36m0:00:00\u001b[0m\n",
            "\u001b[?25hDownloading editdistpy-0.1.5-cp310-cp310-manylinux_2_5_x86_64.manylinux1_x86_64.manylinux_2_17_x86_64.manylinux2014_x86_64.whl (144 kB)\n",
            "\u001b[2K   \u001b[90m━━━━━━━━━━━━━━━━━━━━━━━━━━━━━━━━━━━━━━━━\u001b[0m \u001b[32m144.1/144.1 kB\u001b[0m \u001b[31m9.6 MB/s\u001b[0m eta \u001b[36m0:00:00\u001b[0m\n",
            "\u001b[?25hInstalling collected packages: editdistpy, symspellpy\n",
            "Successfully installed editdistpy-0.1.5 symspellpy-6.7.8\n"
          ]
        }
      ],
      "source": [
        "!pip install symspellpy\n",
        "import pkg_resources #for working with files\n",
        "from symspellpy import SymSpell, Verbosity  #spelling correction\n",
        "import re #regular expression\n",
        "# '''The \"re\" module stands for \"regular expressions,\" and it provides functions for working with regular expressions in Python.\n",
        "#  Regular expressions are powerful tools for pattern matching and text manipulation. You can use the \"re\" module to search strings,\n",
        "# replace substrings, and perform various other operations based on patterns defined by regular expressions.'''\n"
      ]
    },
    {
      "cell_type": "code",
      "execution_count": null,
      "metadata": {
        "colab": {
          "base_uri": "https://localhost:8080/",
          "height": 36
        },
        "id": "CKlbnCd3AAxd",
        "outputId": "15b0ec89-cdfc-440f-c0e9-448b26c5e8c8"
      },
      "outputs": [
        {
          "data": {
            "application/vnd.google.colaboratory.intrinsic+json": {
              "type": "string"
            },
            "text/plain": [
              "'helloo bagundhii, good'"
            ]
          },
          "execution_count": 4,
          "metadata": {},
          "output_type": "execute_result"
        }
      ],
      "source": [
        "def elongation_normalization(text):\n",
        "  text = text.lower()\n",
        "  text = re.sub(r'(.)\\1{2,}', r\"\\1\\1\", text)\n",
        "  return text\n",
        "example = \"hellooo bagundhiiiiiii, gooood\"\n",
        "elongation_normalization(example)\n"
      ]
    },
    {
      "cell_type": "code",
      "execution_count": null,
      "metadata": {
        "colab": {
          "base_uri": "https://localhost:8080/",
          "height": 36
        },
        "id": "oqxdAAF7AAuQ",
        "outputId": "f166ebf7-9486-44f0-bb9a-5f8c7e6e4f7b"
      },
      "outputs": [
        {
          "data": {
            "application/vnd.google.colaboratory.intrinsic+json": {
              "type": "string"
            },
            "text/plain": [
              "'this is a lovely movie'"
            ]
          },
          "execution_count": 5,
          "metadata": {},
          "output_type": "execute_result"
        }
      ],
      "source": [
        "#SymSpell is a Python library designed to perform efficient spelling correction and fuzzy string matching.\n",
        "sym_spell = SymSpell(max_dictionary_edit_distance=4)\n",
        "dictionary_path = pkg_resources.resource_filename(\"symspellpy\", \"frequency_dictionary_en_82_765.txt\")\n",
        "sym_spell.load_dictionary(dictionary_path, term_index=0, count_index=1)\n",
        "def eng_spelling_correction(text):\n",
        "  result = sym_spell.word_segmentation(text)\n",
        "  return result.corrected_string\n",
        "example = \"thsi isa a lovely movei\"\n",
        "eng_spelling_correction(example)"
      ]
    },
    {
      "cell_type": "code",
      "execution_count": null,
      "metadata": {
        "colab": {
          "base_uri": "https://localhost:8080/",
          "height": 36
        },
        "id": "rpNA_EZNAArb",
        "outputId": "28a70c9b-6d42-4cc8-9f70-242698c796b5"
      },
      "outputs": [
        {
          "data": {
            "application/vnd.google.colaboratory.intrinsic+json": {
              "type": "string"
            },
            "text/plain": [
              "'tinava sariga'"
            ]
          },
          "execution_count": 6,
          "metadata": {},
          "output_type": "execute_result"
        }
      ],
      "source": [
        "def transliteration_normalization(text):\n",
        "  text = re.sub(r'(.)\\1{1,}', r\"\\1\", text)\n",
        "  return text\n",
        "example = \"tinnaavaa sarigga\"\n",
        "transliteration_normalization(example)"
      ]
    },
    {
      "cell_type": "code",
      "execution_count": null,
      "metadata": {
        "colab": {
          "base_uri": "https://localhost:8080/",
          "height": 36
        },
        "id": "NieuSMGFAAoQ",
        "outputId": "d3762145-6828-463c-e005-bf57dfa00197"
      },
      "outputs": [
        {
          "data": {
            "application/vnd.google.colaboratory.intrinsic+json": {
              "type": "string"
            },
            "text/plain": [
              "'tinnava jarkand'"
            ]
          },
          "execution_count": 7,
          "metadata": {},
          "output_type": "execute_result"
        }
      ],
      "source": [
        "def consonant_normalization(text):\n",
        "\n",
        "  text = text.replace('kh', 'k')\n",
        "  text = text.replace('chh', 'ch')\n",
        "  text = text.replace('gh', 'g')\n",
        "  text = text.replace('th', 't')\n",
        "  text = text.replace('jh', 'j')\n",
        "  text = text.replace('dh', 'd')\n",
        "  text = text.replace('bh', 'b')\n",
        "  return text\n",
        "example = \"thinnava jharkand\"\n",
        "consonant_normalization(example)"
      ]
    },
    {
      "cell_type": "code",
      "execution_count": null,
      "metadata": {
        "colab": {
          "base_uri": "https://localhost:8080/",
          "height": 36
        },
        "id": "O1Sfj7LQAAlY",
        "outputId": "6909fadf-7435-42e6-9e32-d3a780666dd3"
      },
      "outputs": [
        {
          "data": {
            "application/vnd.google.colaboratory.intrinsic+json": {
              "type": "string"
            },
            "text/plain": [
              "'worst government . #ysrcp chala cheta ga paripalana chestumdi . '"
            ]
          },
          "execution_count": 8,
          "metadata": {},
          "output_type": "execute_result"
        }
      ],
      "source": [
        "def data_normalization(text_tuple):\n",
        "  text = \"\"\n",
        "  for tupl in text_tuple:\n",
        "    word = tupl[0]\n",
        "    lang = tupl[1]\n",
        "    word = elongation_normalization(word)\n",
        "    # for both languages\n",
        "    if lang == 'en': #english words\n",
        "      word = eng_spelling_correction(word)\n",
        "      text += word + \" \"\n",
        "    if lang == 'te': # telugu words\n",
        "      word = transliteration_normalization(word)\n",
        "      word = consonant_normalization(word)\n",
        "      text += word + \" \"\n",
        "    if lang == 'univ': # universal\n",
        "      text += word + \" \"\n",
        "  return text\n",
        "example = [('worstttt', 'en'), ('government', 'en'), ('.', 'univ'), ('#YSRCP', 'univ'),\n",
        "     ('chala', 'te'), ('chethha', 'te'), ('ga', 'te'), ('paripalana', 'te'), ('chesthumdhi', 'te'), ('.', 'univ')]\n",
        "data_normalization(example)"
      ]
    },
    {
      "cell_type": "code",
      "execution_count": null,
      "metadata": {
        "colab": {
          "base_uri": "https://localhost:8080/",
          "height": 206
        },
        "id": "N_mvBPdDAAig",
        "outputId": "1e292fd2-33f8-44a1-b77a-866bbc68fbb5"
      },
      "outputs": [
        {
          "data": {
            "application/vnd.google.colaboratory.intrinsic+json": {
              "summary": "{\n  \"name\": \"data\",\n  \"rows\": 34588,\n  \"fields\": [\n    {\n      \"column\": \"comment\",\n      \"properties\": {\n        \"dtype\": \"string\",\n        \"num_unique_values\": 33352,\n        \"samples\": [\n          \"waiting video non spoiler review rr\",\n          \"concept nice dop good\",\n          \"reviews macrame kakunda videos lo kuda ni voice chepte better\"\n        ],\n        \"semantic_type\": \"\",\n        \"description\": \"\"\n      }\n    },\n    {\n      \"column\": \"label\",\n      \"properties\": {\n        \"dtype\": \"number\",\n        \"std\": 0,\n        \"min\": -1,\n        \"max\": 1,\n        \"num_unique_values\": 3,\n        \"samples\": [\n          -1,\n          0,\n          1\n        ],\n        \"semantic_type\": \"\",\n        \"description\": \"\"\n      }\n    }\n  ]\n}",
              "type": "dataframe",
              "variable_name": "data"
            },
            "text/html": [
              "\n",
              "  <div id=\"df-d854b998-7c78-4d33-a712-ad4e7fe8e7e8\" class=\"colab-df-container\">\n",
              "    <div>\n",
              "<style scoped>\n",
              "    .dataframe tbody tr th:only-of-type {\n",
              "        vertical-align: middle;\n",
              "    }\n",
              "\n",
              "    .dataframe tbody tr th {\n",
              "        vertical-align: top;\n",
              "    }\n",
              "\n",
              "    .dataframe thead th {\n",
              "        text-align: right;\n",
              "    }\n",
              "</style>\n",
              "<table border=\"1\" class=\"dataframe\">\n",
              "  <thead>\n",
              "    <tr style=\"text-align: right;\">\n",
              "      <th></th>\n",
              "      <th>comment</th>\n",
              "      <th>label</th>\n",
              "    </tr>\n",
              "  </thead>\n",
              "  <tbody>\n",
              "    <tr>\n",
              "      <th>0</th>\n",
              "      <td>2 5 5 routine revenge story engaging screen pl...</td>\n",
              "      <td>-1</td>\n",
              "    </tr>\n",
              "    <tr>\n",
              "      <th>1</th>\n",
              "      <td>attlakada mana pani manam chedam inka force ok...</td>\n",
              "      <td>0</td>\n",
              "    </tr>\n",
              "    <tr>\n",
              "      <th>2</th>\n",
              "      <td>1 time watch entra movie good</td>\n",
              "      <td>1</td>\n",
              "    </tr>\n",
              "    <tr>\n",
              "      <th>3</th>\n",
              "      <td>covid time lo choose vaalu like esesukondi</td>\n",
              "      <td>0</td>\n",
              "    </tr>\n",
              "    <tr>\n",
              "      <th>4</th>\n",
              "      <td>puneethraj70 ya character wise rgv chala bette...</td>\n",
              "      <td>1</td>\n",
              "    </tr>\n",
              "  </tbody>\n",
              "</table>\n",
              "</div>\n",
              "    <div class=\"colab-df-buttons\">\n",
              "\n",
              "  <div class=\"colab-df-container\">\n",
              "    <button class=\"colab-df-convert\" onclick=\"convertToInteractive('df-d854b998-7c78-4d33-a712-ad4e7fe8e7e8')\"\n",
              "            title=\"Convert this dataframe to an interactive table.\"\n",
              "            style=\"display:none;\">\n",
              "\n",
              "  <svg xmlns=\"http://www.w3.org/2000/svg\" height=\"24px\" viewBox=\"0 -960 960 960\">\n",
              "    <path d=\"M120-120v-720h720v720H120Zm60-500h600v-160H180v160Zm220 220h160v-160H400v160Zm0 220h160v-160H400v160ZM180-400h160v-160H180v160Zm440 0h160v-160H620v160ZM180-180h160v-160H180v160Zm440 0h160v-160H620v160Z\"/>\n",
              "  </svg>\n",
              "    </button>\n",
              "\n",
              "  <style>\n",
              "    .colab-df-container {\n",
              "      display:flex;\n",
              "      gap: 12px;\n",
              "    }\n",
              "\n",
              "    .colab-df-convert {\n",
              "      background-color: #E8F0FE;\n",
              "      border: none;\n",
              "      border-radius: 50%;\n",
              "      cursor: pointer;\n",
              "      display: none;\n",
              "      fill: #1967D2;\n",
              "      height: 32px;\n",
              "      padding: 0 0 0 0;\n",
              "      width: 32px;\n",
              "    }\n",
              "\n",
              "    .colab-df-convert:hover {\n",
              "      background-color: #E2EBFA;\n",
              "      box-shadow: 0px 1px 2px rgba(60, 64, 67, 0.3), 0px 1px 3px 1px rgba(60, 64, 67, 0.15);\n",
              "      fill: #174EA6;\n",
              "    }\n",
              "\n",
              "    .colab-df-buttons div {\n",
              "      margin-bottom: 4px;\n",
              "    }\n",
              "\n",
              "    [theme=dark] .colab-df-convert {\n",
              "      background-color: #3B4455;\n",
              "      fill: #D2E3FC;\n",
              "    }\n",
              "\n",
              "    [theme=dark] .colab-df-convert:hover {\n",
              "      background-color: #434B5C;\n",
              "      box-shadow: 0px 1px 3px 1px rgba(0, 0, 0, 0.15);\n",
              "      filter: drop-shadow(0px 1px 2px rgba(0, 0, 0, 0.3));\n",
              "      fill: #FFFFFF;\n",
              "    }\n",
              "  </style>\n",
              "\n",
              "    <script>\n",
              "      const buttonEl =\n",
              "        document.querySelector('#df-d854b998-7c78-4d33-a712-ad4e7fe8e7e8 button.colab-df-convert');\n",
              "      buttonEl.style.display =\n",
              "        google.colab.kernel.accessAllowed ? 'block' : 'none';\n",
              "\n",
              "      async function convertToInteractive(key) {\n",
              "        const element = document.querySelector('#df-d854b998-7c78-4d33-a712-ad4e7fe8e7e8');\n",
              "        const dataTable =\n",
              "          await google.colab.kernel.invokeFunction('convertToInteractive',\n",
              "                                                    [key], {});\n",
              "        if (!dataTable) return;\n",
              "\n",
              "        const docLinkHtml = 'Like what you see? Visit the ' +\n",
              "          '<a target=\"_blank\" href=https://colab.research.google.com/notebooks/data_table.ipynb>data table notebook</a>'\n",
              "          + ' to learn more about interactive tables.';\n",
              "        element.innerHTML = '';\n",
              "        dataTable['output_type'] = 'display_data';\n",
              "        await google.colab.output.renderOutput(dataTable, element);\n",
              "        const docLink = document.createElement('div');\n",
              "        docLink.innerHTML = docLinkHtml;\n",
              "        element.appendChild(docLink);\n",
              "      }\n",
              "    </script>\n",
              "  </div>\n",
              "\n",
              "\n",
              "<div id=\"df-692dba94-86be-461a-86fe-c8e5a7a5d32c\">\n",
              "  <button class=\"colab-df-quickchart\" onclick=\"quickchart('df-692dba94-86be-461a-86fe-c8e5a7a5d32c')\"\n",
              "            title=\"Suggest charts\"\n",
              "            style=\"display:none;\">\n",
              "\n",
              "<svg xmlns=\"http://www.w3.org/2000/svg\" height=\"24px\"viewBox=\"0 0 24 24\"\n",
              "     width=\"24px\">\n",
              "    <g>\n",
              "        <path d=\"M19 3H5c-1.1 0-2 .9-2 2v14c0 1.1.9 2 2 2h14c1.1 0 2-.9 2-2V5c0-1.1-.9-2-2-2zM9 17H7v-7h2v7zm4 0h-2V7h2v10zm4 0h-2v-4h2v4z\"/>\n",
              "    </g>\n",
              "</svg>\n",
              "  </button>\n",
              "\n",
              "<style>\n",
              "  .colab-df-quickchart {\n",
              "      --bg-color: #E8F0FE;\n",
              "      --fill-color: #1967D2;\n",
              "      --hover-bg-color: #E2EBFA;\n",
              "      --hover-fill-color: #174EA6;\n",
              "      --disabled-fill-color: #AAA;\n",
              "      --disabled-bg-color: #DDD;\n",
              "  }\n",
              "\n",
              "  [theme=dark] .colab-df-quickchart {\n",
              "      --bg-color: #3B4455;\n",
              "      --fill-color: #D2E3FC;\n",
              "      --hover-bg-color: #434B5C;\n",
              "      --hover-fill-color: #FFFFFF;\n",
              "      --disabled-bg-color: #3B4455;\n",
              "      --disabled-fill-color: #666;\n",
              "  }\n",
              "\n",
              "  .colab-df-quickchart {\n",
              "    background-color: var(--bg-color);\n",
              "    border: none;\n",
              "    border-radius: 50%;\n",
              "    cursor: pointer;\n",
              "    display: none;\n",
              "    fill: var(--fill-color);\n",
              "    height: 32px;\n",
              "    padding: 0;\n",
              "    width: 32px;\n",
              "  }\n",
              "\n",
              "  .colab-df-quickchart:hover {\n",
              "    background-color: var(--hover-bg-color);\n",
              "    box-shadow: 0 1px 2px rgba(60, 64, 67, 0.3), 0 1px 3px 1px rgba(60, 64, 67, 0.15);\n",
              "    fill: var(--button-hover-fill-color);\n",
              "  }\n",
              "\n",
              "  .colab-df-quickchart-complete:disabled,\n",
              "  .colab-df-quickchart-complete:disabled:hover {\n",
              "    background-color: var(--disabled-bg-color);\n",
              "    fill: var(--disabled-fill-color);\n",
              "    box-shadow: none;\n",
              "  }\n",
              "\n",
              "  .colab-df-spinner {\n",
              "    border: 2px solid var(--fill-color);\n",
              "    border-color: transparent;\n",
              "    border-bottom-color: var(--fill-color);\n",
              "    animation:\n",
              "      spin 1s steps(1) infinite;\n",
              "  }\n",
              "\n",
              "  @keyframes spin {\n",
              "    0% {\n",
              "      border-color: transparent;\n",
              "      border-bottom-color: var(--fill-color);\n",
              "      border-left-color: var(--fill-color);\n",
              "    }\n",
              "    20% {\n",
              "      border-color: transparent;\n",
              "      border-left-color: var(--fill-color);\n",
              "      border-top-color: var(--fill-color);\n",
              "    }\n",
              "    30% {\n",
              "      border-color: transparent;\n",
              "      border-left-color: var(--fill-color);\n",
              "      border-top-color: var(--fill-color);\n",
              "      border-right-color: var(--fill-color);\n",
              "    }\n",
              "    40% {\n",
              "      border-color: transparent;\n",
              "      border-right-color: var(--fill-color);\n",
              "      border-top-color: var(--fill-color);\n",
              "    }\n",
              "    60% {\n",
              "      border-color: transparent;\n",
              "      border-right-color: var(--fill-color);\n",
              "    }\n",
              "    80% {\n",
              "      border-color: transparent;\n",
              "      border-right-color: var(--fill-color);\n",
              "      border-bottom-color: var(--fill-color);\n",
              "    }\n",
              "    90% {\n",
              "      border-color: transparent;\n",
              "      border-bottom-color: var(--fill-color);\n",
              "    }\n",
              "  }\n",
              "</style>\n",
              "\n",
              "  <script>\n",
              "    async function quickchart(key) {\n",
              "      const quickchartButtonEl =\n",
              "        document.querySelector('#' + key + ' button');\n",
              "      quickchartButtonEl.disabled = true;  // To prevent multiple clicks.\n",
              "      quickchartButtonEl.classList.add('colab-df-spinner');\n",
              "      try {\n",
              "        const charts = await google.colab.kernel.invokeFunction(\n",
              "            'suggestCharts', [key], {});\n",
              "      } catch (error) {\n",
              "        console.error('Error during call to suggestCharts:', error);\n",
              "      }\n",
              "      quickchartButtonEl.classList.remove('colab-df-spinner');\n",
              "      quickchartButtonEl.classList.add('colab-df-quickchart-complete');\n",
              "    }\n",
              "    (() => {\n",
              "      let quickchartButtonEl =\n",
              "        document.querySelector('#df-692dba94-86be-461a-86fe-c8e5a7a5d32c button');\n",
              "      quickchartButtonEl.style.display =\n",
              "        google.colab.kernel.accessAllowed ? 'block' : 'none';\n",
              "    })();\n",
              "  </script>\n",
              "</div>\n",
              "\n",
              "    </div>\n",
              "  </div>\n"
            ],
            "text/plain": [
              "                                             comment  label\n",
              "0  2 5 5 routine revenge story engaging screen pl...     -1\n",
              "1  attlakada mana pani manam chedam inka force ok...      0\n",
              "2                      1 time watch entra movie good      1\n",
              "3         covid time lo choose vaalu like esesukondi      0\n",
              "4  puneethraj70 ya character wise rgv chala bette...      1"
            ]
          },
          "execution_count": 11,
          "metadata": {},
          "output_type": "execute_result"
        }
      ],
      "source": [
        "import numpy as np\n",
        "import pandas as pd\n",
        "data = pd.read_csv('/34k_Code_Mixed_Tel-Eng.csv')\n",
        "data.head()"
      ]
    },
    {
      "cell_type": "code",
      "execution_count": null,
      "metadata": {
        "colab": {
          "base_uri": "https://localhost:8080/"
        },
        "id": "X4zo6J5WAAfR",
        "outputId": "9cc8a722-3e5c-43a5-e41d-74e9fe2aa2bd"
      },
      "outputs": [
        {
          "name": "stdout",
          "output_type": "stream",
          "text": [
            "Number of rows: 34588\n"
          ]
        }
      ],
      "source": [
        "num_rows = len(data)\n",
        "\n",
        "# Print the number of rows\n",
        "print(\"Number of rows:\", num_rows)"
      ]
    },
    {
      "cell_type": "code",
      "execution_count": null,
      "metadata": {
        "colab": {
          "base_uri": "https://localhost:8080/"
        },
        "id": "DOOndD0HAAcT",
        "outputId": "75dc6047-5ce4-47c8-a543-9b0e37195687"
      },
      "outputs": [
        {
          "name": "stdout",
          "output_type": "stream",
          "text": [
            "[0 1 2]\n"
          ]
        }
      ],
      "source": [
        "# Assuming `data` is your DataFrame and 'label' is the column containing the labels\n",
        "# Replace the labels -1, 0, 1 with 0, 1, 2 respectively\n",
        "data['label'] = data['label'].replace({-1: 0, 0: 1, 1: 2})\n",
        "\n",
        "# Verify the changes\n",
        "print(data['label'].unique())"
      ]
    },
    {
      "cell_type": "code",
      "execution_count": null,
      "metadata": {
        "colab": {
          "base_uri": "https://localhost:8080/"
        },
        "id": "raYYl66YAOgd",
        "outputId": "9b816c96-7277-45a0-c753-04a80f264e6c"
      },
      "outputs": [
        {
          "name": "stdout",
          "output_type": "stream",
          "text": [
            "Index(['comment', 'label'], dtype='object')\n"
          ]
        }
      ],
      "source": [
        "# Get the list of column names\n",
        "columns = data.columns\n",
        "\n",
        "# Print the list of column names\n",
        "print(columns)"
      ]
    },
    {
      "cell_type": "code",
      "execution_count": null,
      "metadata": {
        "colab": {
          "base_uri": "https://localhost:8080/"
        },
        "id": "7k3zVaFvAOdD",
        "outputId": "a4d8291f-9f69-44b9-a2e7-2b05a0a25d8d"
      },
      "outputs": [
        {
          "name": "stderr",
          "output_type": "stream",
          "text": [
            "[nltk_data] Downloading package stopwords to /root/nltk_data...\n",
            "[nltk_data]   Unzipping corpora/stopwords.zip.\n"
          ]
        },
        {
          "data": {
            "text/plain": [
              "True"
            ]
          },
          "execution_count": 16,
          "metadata": {},
          "output_type": "execute_result"
        }
      ],
      "source": [
        "import nltk\n",
        "from nltk.corpus import stopwords\n",
        "nltk.download('stopwords')"
      ]
    },
    {
      "cell_type": "code",
      "execution_count": null,
      "metadata": {
        "colab": {
          "base_uri": "https://localhost:8080/"
        },
        "id": "l7iwd6cDAOYw",
        "outputId": "7c0b2929-dd14-4b5f-9bbc-06ada2a3ed98"
      },
      "outputs": [
        {
          "name": "stdout",
          "output_type": "stream",
          "text": [
            "{\"won't\", \"isn't\", \"mightn't\", 'nor', \"mustn't\", \"shan't\", \"aren't\", 'no', \"wasn't\", \"doesn't\", \"wouldn't\", \"needn't\", \"hasn't\", \"don't\", 'now', \"couldn't\", \"didn't\", 'not', \"hadn't\", \"shouldn't\", \"weren't\", \"haven't\"}\n"
          ]
        }
      ],
      "source": [
        "# stop words\n",
        "stop_words = set(stopwords.words('english'))\n",
        "#print(stop_words)\n",
        "# removing words like no,not,didn`t..etc from stop words\n",
        "black_list = set(word for word in stop_words if 'no' in word or \"'t\" in word)\n",
        "print(black_list)\n",
        "stop_words = stop_words - black_list"
      ]
    },
    {
      "cell_type": "code",
      "execution_count": null,
      "metadata": {
        "colab": {
          "base_uri": "https://localhost:8080/"
        },
        "id": "yReFzBOMAORH",
        "outputId": "b49a6543-d2c7-4776-d955-5bbe5c723b5b"
      },
      "outputs": [
        {
          "name": "stdout",
          "output_type": "stream",
          "text": [
            "2.17.0\n"
          ]
        }
      ],
      "source": [
        "import matplotlib.pyplot as plt\n",
        "import seaborn as sns\n",
        "import tensorflow as tf\n",
        "print(tf.__version__)\n",
        "import os\n",
        "\n",
        "os.environ['TF_CPP_MIN_LOG_LEVEL'] = '2'\n",
        "tf.random.set_seed(0)\n",
        "\n",
        "\n",
        "from tensorflow.keras.preprocessing.text import Tokenizer\n",
        "from tensorflow.keras.preprocessing.sequence import pad_sequences\n",
        "from tensorflow.keras.models import Sequential\n",
        "from tensorflow.keras.layers import Dense, Embedding, Dropout, SimpleRNN\n",
        "from tensorflow.keras.layers import MaxPooling1D\n",
        "from tensorflow.keras.layers import LSTM, Bidirectional\n",
        "\n",
        "from sklearn.model_selection import train_test_split\n",
        "from sklearn.preprocessing import LabelBinarizer\n",
        "from tensorflow.keras.optimizers import Adam\n",
        "from tensorflow.keras.callbacks import EarlyStopping, ModelCheckpoint\n",
        "import os\n",
        "from sklearn import metrics"
      ]
    },
    {
      "cell_type": "code",
      "execution_count": null,
      "metadata": {
        "id": "cLXfygRvAWXF"
      },
      "outputs": [],
      "source": [
        "vocab_size = 5000\n",
        "embedding_dim = 300\n",
        "max_len = 25\n",
        "\n",
        "batch_size=128\n",
        "epochs=30\n",
        "\n",
        "tokenizer = Tokenizer(num_words=vocab_size, oov_token=\"\", lower=True)\n",
        "binarizer = LabelBinarizer()"
      ]
    },
    {
      "cell_type": "code",
      "execution_count": null,
      "metadata": {
        "colab": {
          "base_uri": "https://localhost:8080/"
        },
        "id": "omQUEPFAAWUN",
        "outputId": "e9f4a998-c988-48d9-fe8a-72a56aa08357"
      },
      "outputs": [
        {
          "name": "stdout",
          "output_type": "stream",
          "text": [
            "[83, 213, 213, 917, 3367, 65, 1, 395, 434, 669, 1]\n",
            "[  1   1   1 537   1   1 651 368   1   1   1   0   0   0   0   0   0   0\n",
            "   0   0   0   0   0   0   0]\n"
          ]
        }
      ],
      "source": [
        "\n",
        "data.fillna('', inplace=True)\n",
        "labels = data.label.tolist()\n",
        "sentences = data.comment.tolist()\n",
        "_= tokenizer.fit_on_texts(sentences)\n",
        "sequences = tokenizer.texts_to_sequences(sentences)\n",
        "print(sequences[0])\n",
        "padded_sequences = pad_sequences(sequences, padding='post', maxlen=max_len)\n",
        "x_train, x_test, y_train, y_test = train_test_split(\n",
        "    padded_sequences, labels, stratify=labels, test_size=0.2, random_state=101)\n",
        "\n",
        "y_train_true = y_train.copy()\n",
        "y_test_true = y_test.copy()\n",
        "\n",
        "y_train = binarizer.fit_transform(y_train)\n",
        "print(x_train[0])\n",
        "y_test = binarizer.fit_transform(y_test)"
      ]
    },
    {
      "cell_type": "code",
      "execution_count": null,
      "metadata": {
        "id": "lOCUbywgAWRR"
      },
      "outputs": [],
      "source": [
        "def simple_rnn():\n",
        "    model = Sequential()\n",
        "    model.add(Embedding(input_dim=vocab_size, output_dim=embedding_dim, input_length=max_len))\n",
        "    model.add(SimpleRNN(512, return_sequences=True))\n",
        "\n",
        "    model.add(SimpleRNN(256))\n",
        "    model.add(Dropout(0.3))\n",
        "    model.add(Dense(3, activation='softmax'))\n",
        "    model.compile(loss='categorical_crossentropy', optimizer=Adam(0.0001), metrics='accuracy')\n",
        "    return model"
      ]
    },
    {
      "cell_type": "code",
      "execution_count": null,
      "metadata": {
        "id": "EfJSJ0EnAWOQ"
      },
      "outputs": [],
      "source": [
        "# Plot history:\n",
        "def plot_history(history):\n",
        "    plt.figure()\n",
        "    plt.plot(history.history['loss'], label='training data')\n",
        "    plt.plot(history.history['val_loss'], label='validation data')\n",
        "    plt.title('LOSS')\n",
        "    plt.ylabel('Loss')\n",
        "    plt.xlabel('No. epoch')\n",
        "    plt.legend(loc=\"upper left\")\n",
        "\n",
        "    # Plot history: Acc\n",
        "    plt.figure()\n",
        "    plt.plot(history.history['accuracy'], label='training data')\n",
        "    plt.plot(history.history['val_accuracy'], label='validation data')\n",
        "    plt.title('ACCURACY')\n",
        "    plt.ylabel('Accuracy')\n",
        "    plt.xlabel('No. epoch')\n",
        "    plt.legend(loc=\"upper left\")\n",
        "    plt.show()\n",
        "\n",
        "\n",
        "def evaluate_model(trained_model, y_test_true):\n",
        "    y_test_preds = trained_model.predict(x_test)\n",
        "    y_test_preds = np.argmax(y_test_preds, axis=1)\n",
        "\n",
        "    print(metrics.classification_report(y_test_true, y_test_preds))\n",
        "\n",
        "    cm = metrics.confusion_matrix(y_test_true, y_test_preds, normalize='true')\n",
        "    sns.heatmap(cm, annot=True, cbar=None, cmap='viridis')\n",
        "    plt.show()\n",
        "    f1 = metrics.f1_score(y_test_true, y_test_preds, average='macro')\n",
        "    return f1"
      ]
    },
    {
      "cell_type": "code",
      "execution_count": null,
      "metadata": {
        "id": "iuX8UGAJAWLL"
      },
      "outputs": [],
      "source": [
        "def simple_rnn():\n",
        "    model = Sequential()\n",
        "    model.add(Embedding(input_dim=vocab_size, output_dim=embedding_dim, input_length=max_len))\n",
        "    model.add(SimpleRNN(512, return_sequences=True))\n",
        "\n",
        "    model.add(SimpleRNN(256))\n",
        "    model.add(Dropout(0.3))\n",
        "    model.add(Dense(3, activation='softmax'))\n",
        "    #The metrics argument should be passed as a list\n",
        "    model.compile(loss='categorical_crossentropy', optimizer=Adam(0.0001), metrics=['accuracy'])\n",
        "    return model"
      ]
    },
    {
      "cell_type": "code",
      "execution_count": null,
      "metadata": {
        "colab": {
          "base_uri": "https://localhost:8080/",
          "height": 1000
        },
        "id": "h9wwYf_lAWIT",
        "outputId": "dc5f172c-fca0-4b70-bf87-acbe0af778f1"
      },
      "outputs": [
        {
          "name": "stdout",
          "output_type": "stream",
          "text": [
            "Epoch 1/30\n"
          ]
        },
        {
          "name": "stderr",
          "output_type": "stream",
          "text": [
            "/usr/local/lib/python3.10/dist-packages/keras/src/layers/core/embedding.py:90: UserWarning: Argument `input_length` is deprecated. Just remove it.\n",
            "  warnings.warn(\n"
          ]
        },
        {
          "name": "stdout",
          "output_type": "stream",
          "text": [
            "\u001b[1m217/217\u001b[0m \u001b[32m━━━━━━━━━━━━━━━━━━━━\u001b[0m\u001b[37m\u001b[0m \u001b[1m93s\u001b[0m 409ms/step - accuracy: 0.5727 - loss: 0.9107 - val_accuracy: 0.7653 - val_loss: 0.5998\n",
            "Epoch 2/30\n",
            "\u001b[1m217/217\u001b[0m \u001b[32m━━━━━━━━━━━━━━━━━━━━\u001b[0m\u001b[37m\u001b[0m \u001b[1m83s\u001b[0m 383ms/step - accuracy: 0.7936 - loss: 0.5385 - val_accuracy: 0.7872 - val_loss: 0.5503\n",
            "Epoch 3/30\n",
            "\u001b[1m217/217\u001b[0m \u001b[32m━━━━━━━━━━━━━━━━━━━━\u001b[0m\u001b[37m\u001b[0m \u001b[1m77s\u001b[0m 355ms/step - accuracy: 0.8398 - loss: 0.4277 - val_accuracy: 0.7882 - val_loss: 0.5794\n",
            "Epoch 4/30\n",
            "\u001b[1m217/217\u001b[0m \u001b[32m━━━━━━━━━━━━━━━━━━━━\u001b[0m\u001b[37m\u001b[0m \u001b[1m85s\u001b[0m 369ms/step - accuracy: 0.8700 - loss: 0.3543 - val_accuracy: 0.7719 - val_loss: 0.6656\n",
            "Epoch 5/30\n",
            "\u001b[1m217/217\u001b[0m \u001b[32m━━━━━━━━━━━━━━━━━━━━\u001b[0m\u001b[37m\u001b[0m \u001b[1m78s\u001b[0m 352ms/step - accuracy: 0.8937 - loss: 0.2944 - val_accuracy: 0.7615 - val_loss: 0.7436\n"
          ]
        },
        {
          "data": {
            "image/png": "[encoded data removed]",
            "text/plain": [
              "<Figure size 640x480 with 1 Axes>"
            ]
          },
          "metadata": {},
          "output_type": "display_data"
        },
        {
          "data": {
            "image/png": "[encoded data removed]",
            "text/plain": [
              "<Figure size 640x480 with 1 Axes>"
            ]
          },
          "metadata": {},
          "output_type": "display_data"
        },
        {
          "name": "stdout",
          "output_type": "stream",
          "text": [
            "\u001b[1m217/217\u001b[0m \u001b[32m━━━━━━━━━━━━━━━━━━━━\u001b[0m\u001b[37m\u001b[0m \u001b[1m10s\u001b[0m 45ms/step\n",
            "              precision    recall  f1-score   support\n",
            "\n",
            "           0       0.75      0.77      0.76      2517\n",
            "           1       0.74      0.78      0.76      2189\n",
            "           2       0.80      0.73      0.76      2212\n",
            "\n",
            "    accuracy                           0.76      6918\n",
            "   macro avg       0.76      0.76      0.76      6918\n",
            "weighted avg       0.76      0.76      0.76      6918\n",
            "\n"
          ]
        },
        {
          "data": {
            "image/png": "[encoded data removed]",
            "text/plain": [
              "<Figure size 640x480 with 1 Axes>"
            ]
          },
          "metadata": {},
          "output_type": "display_data"
        },
        {
          "name": "stdout",
          "output_type": "stream",
          "text": [
            "f1 score 0.7615711957489303\n"
          ]
        }
      ],
      "source": [
        "rnn_model = simple_rnn()\n",
        "checkpoint_path=\"simple_rnn_model.keras\"\n",
        "keras_callbacks   = [\n",
        "      EarlyStopping(monitor='val_loss', patience=3, mode='min', min_delta=0.0001),\n",
        "      ModelCheckpoint(checkpoint_path, monitor='val_loss', save_best_only=True, mode='min')\n",
        "]\n",
        "history = rnn_model.fit(\n",
        "    x_train, y_train, batch_size=batch_size, epochs=epochs, validation_data=(x_test, y_test), callbacks=keras_callbacks)\n",
        "plot_history(history)\n",
        "f1 = evaluate_model(rnn_model, y_test_true)\n",
        "print(\"f1 score\", f1)"
      ]
    },
    {
      "cell_type": "code",
      "execution_count": null,
      "metadata": {
        "id": "22LzStv7AWFM"
      },
      "outputs": [],
      "source": [
        "def bi_lstm():\n",
        "    model = Sequential()\n",
        "    model.add(Embedding(input_dim=vocab_size, output_dim=embedding_dim, input_length=max_len))\n",
        "    model.add(Bidirectional(LSTM(512, return_sequences=True)))\n",
        "    model.add(Bidirectional(LSTM(256)))\n",
        "    model.add(Dropout(0.3))\n",
        "    model.add(Dense(3, activation='softmax'))\n",
        "    model.compile(loss='categorical_crossentropy', optimizer=Adam(0.0001), metrics='accuracy')\n",
        "    return model"
      ]
    },
    {
      "cell_type": "code",
      "execution_count": null,
      "metadata": {
        "id": "BIxsehgnAlTR"
      },
      "outputs": [],
      "source": [
        "def bi_lstm():\n",
        "    model = Sequential()\n",
        "    model.add(Embedding(input_dim=vocab_size, output_dim=embedding_dim, input_length=max_len))\n",
        "    model.add(Bidirectional(LSTM(512, return_sequences=True)))\n",
        "    model.add(Bidirectional(LSTM(256)))\n",
        "    model.add(Dropout(0.3))\n",
        "    model.add(Dense(3, activation='softmax'))\n",
        "    #The metrics argument should be passed as a list\n",
        "    model.compile(loss='categorical_crossentropy', optimizer=Adam(0.0001), metrics=['accuracy'])\n",
        "    return model"
      ]
    },
    {
      "cell_type": "code",
      "execution_count": null,
      "metadata": {
        "colab": {
          "background_save": true,
          "base_uri": "https://localhost:8080/"
        },
        "id": "oz2VB5xBH-1w",
        "outputId": "845b4d4d-040c-4f2d-b8c6-3a154d28987f"
      },
      "outputs": [
        {
          "name": "stderr",
          "output_type": "stream",
          "text": [
            "/usr/local/lib/python3.10/dist-packages/keras/src/layers/core/embedding.py:90: UserWarning: Argument `input_length` is deprecated. Just remove it.\n",
            "  warnings.warn(\n"
          ]
        },
        {
          "name": "stdout",
          "output_type": "stream",
          "text": [
            "Epoch 1/30\n",
            "\u001b[1m217/217\u001b[0m \u001b[32m━━━━━━━━━━━━━━━━━━━━\u001b[0m\u001b[37m\u001b[0m \u001b[1m819s\u001b[0m 4s/step - accuracy: 0.5199 - loss: 0.9552 - val_accuracy: 0.7843 - val_loss: 0.5574\n",
            "Epoch 2/30\n",
            "\u001b[1m217/217\u001b[0m \u001b[32m━━━━━━━━━━━━━━━━━━━━\u001b[0m\u001b[37m\u001b[0m \u001b[1m824s\u001b[0m 4s/step - accuracy: 0.7930 - loss: 0.5344 - val_accuracy: 0.8043 - val_loss: 0.5203\n",
            "Epoch 3/30\n",
            "\u001b[1m217/217\u001b[0m \u001b[32m━━━━━━━━━━━━━━━━━━━━\u001b[0m\u001b[37m\u001b[0m \u001b[1m766s\u001b[0m 4s/step - accuracy: 0.8356 - loss: 0.4475 - val_accuracy: 0.8015 - val_loss: 0.5281\n",
            "Epoch 4/30\n",
            "\u001b[1m217/217\u001b[0m \u001b[32m━━━━━━━━━━━━━━━━━━━━\u001b[0m\u001b[37m\u001b[0m \u001b[1m787s\u001b[0m 3s/step - accuracy: 0.8505 - loss: 0.4056 - val_accuracy: 0.8008 - val_loss: 0.5493\n",
            "Epoch 5/30\n",
            "\u001b[1m217/217\u001b[0m \u001b[32m━━━━━━━━━━━━━━━━━━━━\u001b[0m\u001b[37m\u001b[0m \u001b[1m819s\u001b[0m 4s/step - accuracy: 0.8642 - loss: 0.3800 - val_accuracy: 0.7894 - val_loss: 0.5842\n"
          ]
        },
        {
          "data": {
            "image/png": "[encoded data removed]",
            "text/plain": [
              "<Figure size 640x480 with 1 Axes>"
            ]
          },
          "metadata": {},
          "output_type": "display_data"
        },
        {
          "data": {
            "image/png": "[encoded data removed]",
            "text/plain": [
              "<Figure size 640x480 with 1 Axes>"
            ]
          },
          "metadata": {},
          "output_type": "display_data"
        },
        {
          "name": "stdout",
          "output_type": "stream",
          "text": [
            "\u001b[1m217/217\u001b[0m \u001b[32m━━━━━━━━━━━━━━━━━━━━\u001b[0m\u001b[37m\u001b[0m \u001b[1m64s\u001b[0m 295ms/step\n",
            "              precision    recall  f1-score   support\n",
            "\n",
            "           0       0.75      0.87      0.80      2517\n",
            "           1       0.77      0.76      0.77      2189\n",
            "           2       0.88      0.72      0.79      2212\n",
            "\n",
            "    accuracy                           0.79      6918\n",
            "   macro avg       0.80      0.79      0.79      6918\n",
            "weighted avg       0.80      0.79      0.79      6918\n",
            "\n"
          ]
        },
        {
          "data": {
            "image/png": "[encoded data removed]",
            "text/plain": [
              "<Figure size 640x480 with 1 Axes>"
            ]
          },
          "metadata": {},
          "output_type": "display_data"
        },
        {
          "name": "stdout",
          "output_type": "stream",
          "text": [
            "f1 score 0.7882671779114455\n"
          ]
        }
      ],
      "source": [
        "bi_lstm_model = bi_lstm()\n",
        "checkpoint_path=\"bi_lstm_model.keras\" # Changed the file extension to .keras\n",
        "keras_callbacks   = [\n",
        "      EarlyStopping(monitor='val_loss', patience=3, mode='min', min_delta=0.0001),\n",
        "      ModelCheckpoint(checkpoint_path, monitor='val_loss', save_best_only=True, mode='min')\n",
        "]\n",
        "history = bi_lstm_model.fit(\n",
        "    x_train, y_train, batch_size=batch_size, epochs=epochs, validation_data=(x_test, y_test), callbacks=keras_callbacks)\n",
        "\n",
        "plot_history(history)\n",
        "f1 = evaluate_model(bi_lstm_model, y_test_true)\n",
        "print(\"f1 score\", f1)"
      ]
    }
  ],
  "metadata": {
    "colab": {
      "provenance": [],
      "authorship_tag": "ABX9TyMDr9w04ywRb/Yzwzzsjpr3",
      "include_colab_link": true
    },
    "kernelspec": {
      "display_name": "Python 3",
      "name": "python3"
    },
    "language_info": {
      "name": "python"
    }
  },
  "nbformat": 4,
  "nbformat_minor": 0
}